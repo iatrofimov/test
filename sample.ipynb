{
 "cells": [
  {
   "cell_type": "code",
   "execution_count": null,
   "id": "initial_id",
   "metadata": {
    "collapsed": true,
    "is_executing": true,
    "ExecuteTime": {
     "start_time": "2024-01-09T17:09:32.746541Z"
    }
   },
   "outputs": [
    {
     "name": "stdout",
     "output_type": "stream",
     "text": [
      " * Serving Flask app '__main__'\n",
      " * Debug mode: off\n"
     ]
    },
    {
     "name": "stderr",
     "output_type": "stream",
     "text": [
      "WARNING: This is a development server. Do not use it in a production deployment. Use a production WSGI server instead.\n",
      " * Running on http://127.0.0.1:5000\n",
      "Press CTRL+C to quit\n",
      "127.0.0.1 - - [09/Jan/2024 22:25:11] \"GET / HTTP/1.1\" 404 -\n",
      "127.0.0.1 - - [09/Jan/2024 22:25:11] \"GET /favicon.ico HTTP/1.1\" 404 -\n",
      "127.0.0.1 - - [09/Jan/2024 22:40:12] \"GET / HTTP/1.1\" 404 -\n",
      "127.0.0.1 - - [09/Jan/2024 22:40:12] \"GET /favicon.ico HTTP/1.1\" 404 -\n",
      "127.0.0.1 - - [09/Jan/2024 22:40:43] \"GET / HTTP/1.1\" 404 -\n",
      "127.0.0.1 - - [09/Jan/2024 22:40:43] \"GET /favicon.ico HTTP/1.1\" 404 -\n"
     ]
    }
   ],
   "source": [
    "from flask import Flask, jsonify, request\n",
    "\n",
    "app = Flask(__name__)\n",
    "\n",
    "# Пример данных пользователей и постов\n",
    "users = [\n",
    "    {\"id\": 1, \"name\": \"John\", \"email\": \"john@example.com\"},\n",
    "    {\"id\": 2, \"name\": \"Jane\", \"email\": \"jane@example.com\"}\n",
    "]\n",
    "\n",
    "posts = [\n",
    "    {\"id\": 1, \"title\": \"First Post\", \"content\": \"Hello, world!\", \"user_id\": 1},\n",
    "    {\"id\": 2, \"title\": \"Second Post\", \"content\": \"Flask is awesome!\", \"user_id\": 2}\n",
    "]\n",
    "\n",
    "# Маршрут для создания пользователя\n",
    "@app.route('/users', methods=['POST'])\n",
    "def create_user():\n",
    "    new_user = request.get_json()\n",
    "    users.append(new_user)\n",
    "    return jsonify(new_user), 201\n",
    "\n",
    "# Маршрут для чтения пользователя\n",
    "@app.route('/users/<int:user_id>', methods=['GET'])\n",
    "def get_user(user_id):\n",
    "    for user in users:\n",
    "        if user['id'] == user_id:\n",
    "            return jsonify(user)\n",
    "    return jsonify({'error': 'User not found'}), 404\n",
    "\n",
    "# Маршрут для изменения пользователя\n",
    "@app.route('/users/<int:user_id>', methods=['PUT'])\n",
    "def update_user(user_id):\n",
    "    updated_user = request.get_json()\n",
    "    for user in users:\n",
    "        if user['id'] == user_id:\n",
    "            user.update(updated_user)\n",
    "            return jsonify(user)\n",
    "    return jsonify({'error': 'User not found'}), 404\n",
    "\n",
    "# Маршрут для удаления пользователя\n",
    "@app.route('/users/<int:user_id>', methods=['DELETE'])\n",
    "def delete_user(user_id):\n",
    "    for user in users:\n",
    "        if user['id'] == user_id:\n",
    "            users.remove(user)\n",
    "            return jsonify({'message': 'User deleted'})\n",
    "    return jsonify({'error': 'User not found'}), 404\n",
    "\n",
    "# Маршрут для создания поста\n",
    "@app.route('/posts', methods=['POST'])\n",
    "def create_post():\n",
    "    new_post = request.get_json()\n",
    "    posts.append(new_post)\n",
    "    return jsonify(new_post), 201\n",
    "\n",
    "# Маршрут для чтения поста\n",
    "@app.route('/posts/<int:post_id>', methods=['GET'])\n",
    "def get_post(post_id):\n",
    "    for post in posts:\n",
    "        if post['id'] == post_id:\n",
    "            return jsonify(post)\n",
    "    return jsonify({'error': 'Post not found'}), 404\n",
    "\n",
    "# Маршрут для изменения поста\n",
    "@app.route('/posts/<int:post_id>', methods=['PUT'])\n",
    "def update_post(post_id):\n",
    "    updated_post = request.get_json()\n",
    "    for post in posts:\n",
    "        if post['id'] == post_id:\n",
    "            post.update(updated_post)\n",
    "            return jsonify(post)\n",
    "    return jsonify({'error': 'Post not found'}), 404\n",
    "\n",
    "# Маршрут для удаления поста\n",
    "@app.route('/posts/<int:post_id>', methods=['DELETE'])\n",
    "def delete_post(post_id):\n",
    "    for post in posts:\n",
    "        if post['id'] == post_id:\n",
    "            posts.remove(post)\n",
    "            return jsonify({'message': 'Post deleted'})\n",
    "    return jsonify({'error': 'Post not found'}), 404\n",
    "\n",
    "if __name__ == '__main__':\n",
    "    app.run()\n"
   ]
  },
  {
   "cell_type": "code",
   "outputs": [],
   "source": [],
   "metadata": {
    "collapsed": false
   },
   "id": "3f19558110811c"
  }
 ],
 "metadata": {
  "kernelspec": {
   "display_name": "Python 3",
   "language": "python",
   "name": "python3"
  },
  "language_info": {
   "codemirror_mode": {
    "name": "ipython",
    "version": 2
   },
   "file_extension": ".py",
   "mimetype": "text/x-python",
   "name": "python",
   "nbconvert_exporter": "python",
   "pygments_lexer": "ipython2",
   "version": "2.7.6"
  }
 },
 "nbformat": 4,
 "nbformat_minor": 5
}
